{
 "cells": [




{
   "cell_type": "markdown",
   "metadata": {},
   "source": [
    "### Basic For Loops II"
   ]
  },
  {
   "cell_type": "code",
   "execution_count": 160,
   "metadata": {},
   "outputs": [
    {
     "data": {
      "text/plain": [
       "[-3, 'big', 'big', 'big']"
      ]
     },
     "execution_count": 160,
     "metadata": {},
     "output_type": "execute_result"
    }
   ],
   "source": [
    "#Given a list, write a function that changes all positive numbers in the list to \"big\".\n",
    "\n",
    "\n",
    "\n",
    "def big(d=[]):\n",
    "    for i in range(len(d)):\n",
    "         if d[i] >=0:\n",
    "            d[i]=\"big\"\n",
    "    return d\n",
    "big([-3,53,7,6])\n",
    "            "
   ]
  },
  {
   "cell_type": "code",
   "execution_count": 129,
   "metadata": {},
   "outputs": [
    {
     "data": {
      "text/plain": [
       "[-1, 1, 1, 3]"
      ]
     },
     "execution_count": 129,
     "metadata": {},
     "output_type": "execute_result"
    }
   ],
   "source": [
    "##Given a list of numbers, create a function to replace the last value with the number of positive values.\n",
    "\n",
    "\n",
    "def count_posative(d=[]):\n",
    "    count =0 \n",
    "    for i in range (len(d)):\n",
    "        if d[i]>= 0:\n",
    "            count+= 1\n",
    "    d[len(d)-1]=count\n",
    "    return d\n",
    "    \n",
    "\n",
    "    \n",
    "count_posative([-1,1,1,1])\n",
    "    "
   ]
  },
  {
   "cell_type": "code",
   "execution_count": 147,
   "metadata": {},
   "outputs": [
    {
     "data": {
      "text/plain": [
       "2.0"
      ]
     },
     "execution_count": 147,
     "metadata": {},
     "output_type": "execute_result"
    }
   ],
   "source": [
    "# Create a function that takes a list and returns the sum of all the values in the array.\n",
    "\n",
    "def list_sum(d=[]):\n",
    "    sum =0\n",
    "    for i in range (len(d)):\n",
    "        sum+= d[i]\n",
    "    return sum\n",
    "\n",
    "\n",
    "list_sum([1,3,2])    "
   ]
  },
  {
   "cell_type": "code",
   "execution_count": 149,
   "metadata": {},
   "outputs": [
    {
     "data": {
      "text/plain": [
       "2.6666666666666665"
      ]
     },
     "execution_count": 149,
     "metadata": {},
     "output_type": "execute_result"
    }
   ],
   "source": [
    "#Create a function that takes a list and returns the average of all the values.\n",
    "\n",
    "def list_avr(d=[]):\n",
    "    sum =0\n",
    "    for i in range (len(d)):\n",
    "        \n",
    "        sum+= d[i]\n",
    "        \n",
    "    return (sum/len(d))\n",
    "\n",
    "\n",
    "list_avr([1,5,2])            "
   ]
  },
  {
   "cell_type": "code",
   "execution_count": 150,
   "metadata": {},
   "outputs": [
    {
     "data": {
      "text/plain": [
       "2"
      ]
     },
     "execution_count": 150,
     "metadata": {},
     "output_type": "execute_result"
    }
   ],
   "source": [
    "# Create a function that takes a list and returns the length of the list.\n",
    "\n",
    "\n",
    "def length(d):\n",
    "    return len(d)\n",
    "length([1,2])"
   ]
  },
  {
   "cell_type": "code",
   "execution_count": 171,
   "metadata": {},
   "outputs": [
    {
     "data": {
      "text/plain": [
       "2"
      ]
     },
     "execution_count": 171,
     "metadata": {},
     "output_type": "execute_result"
    }
   ],
   "source": [
    "#Create a function that takes a list of numbers and returns the minimum value in the list. (Optional) If the list is empty, have the function return False.\n",
    "\n",
    "\n",
    "\n",
    "def min(d):\n",
    "    if len(d)<0:\n",
    "        return False\n",
    "    \n",
    "    min=d[0]\n",
    "    for i in range(len(d)):\n",
    "        if d[i]< min:\n",
    "            min = d[i]\n",
    "    return min \n",
    "min([5,2,3])\n",
    "    "
   ]
  },
  {
   "cell_type": "code",
   "execution_count": null,
   "metadata": {},
   "outputs": [],
   "source": [
    "#Create a function that takes a list and returns the maximum value in the array. (Optional) If the list is empty, have the function return False.\n",
    "\n",
    "\n",
    "def ma(d):\n",
    "    if len(d)<0:\n",
    "        return False\n",
    "    \n",
    "    min=d[0]\n",
    "    for i in range(len(d)):\n",
    "        if d[i]< min:\n",
    "            min = d[i]\n",
    "    return min \n",
    "min([5,2,3])"
   ]
  }
 ],
 "metadata": {
  "kernelspec": {
   "display_name": "Python 3",
   "language": "python",
   "name": "python3"
  },
  "language_info": {
   "codemirror_mode": {
    "name": "ipython",
    "version": 3
   },
   "file_extension": ".py",
   "mimetype": "text/x-python",
   "name": "python",
   "nbconvert_exporter": "python",
   "pygments_lexer": "ipython3",
   "version": "3.7.9"
  }
 },
 "nbformat": 4,
 "nbformat_minor": 4
}
