{
 "cells": [


{
   "cell_type": "markdown",
   "metadata": {},
   "source": [
    "## Function ||"
   ]
  },
  {
   "cell_type": "code",
   "execution_count": 43,
   "metadata": {},
   "outputs": [
    {
     "name": "stdout",
     "output_type": "stream",
     "text": [
      "[5, 4, 3, 2, 1]\n"
     ]
    }
   ],
   "source": [
    " #Create a function that accepts a number as an input. Return a new list that counts down by one, from the number (as the 0th element) down to 0 (as the last element).\n",
    "    \n",
    "def countdown(a):\n",
    "    d_list=[]\n",
    "    for i in range (a,0,-1):\n",
    "        d_list.append(i)\n",
    "    return d_list\n",
    "        \n",
    "print(countdown(5))"
   ]
  },
  {
   "cell_type": "code",
   "execution_count": 52,
   "metadata": {},
   "outputs": [
    {
     "name": "stdout",
     "output_type": "stream",
     "text": [
      "1\n"
     ]
    },
    {
     "data": {
      "text/plain": [
       "5"
      ]
     },
     "execution_count": 52,
     "metadata": {},
     "output_type": "execute_result"
    }
   ],
   "source": [
    "#Create a function that will receive a list with two numbers. Print the first value and return the second.\n",
    "\n",
    "def print_return( d=[]):\n",
    "    \n",
    "    print (d[0])\n",
    "    return (d[1])\n",
    "\n",
    "\n",
    "print_return([1,5])  "
   ]
  },
  {
   "cell_type": "code",
   "execution_count": 86,
   "metadata": {},
   "outputs": [
    {
     "data": {
      "text/plain": [
       "5"
      ]
     },
     "execution_count": 86,
     "metadata": {},
     "output_type": "execute_result"
    }
   ],
   "source": [
    "#Create a function that accepts a list and returns the sum of the first value in the list plus the list's length.\n",
    "\n",
    "\n",
    "def fist_len(d=[]):\n",
    "    sum = d[0] + len(d)\n",
    "    return sum\n",
    "    \n",
    "    \n",
    "fist_len([1,2,5,4])"
   ]
  },
  {
   "cell_type": "code",
   "execution_count": 105,
   "metadata": {},
   "outputs": [
    {
     "name": "stdout",
     "output_type": "stream",
     "text": [
      "[3, 3, 3, 3]\n"
     ]
    }
   ],
   "source": [
    "#Write a function that accepts two integers as parameters: size and value. The function should create and return a list whose length\n",
    "#is equal to the given size, and whose values are all the given value.\n",
    "\n",
    "def length_list(s,v):\n",
    "    d=[] \n",
    "    for i in range(s):\n",
    "         d.append(v)\n",
    "    return d\n",
    "    \n",
    "print(length_list(4,3))\n",
    "\n"
   ]
  },
  {
   "cell_type": "code",
   "execution_count": 110,
   "metadata": {},
   "outputs": [
    {
     "name": "stdout",
     "output_type": "stream",
     "text": [
      "[]\n"
     ]
    }
   ],
   "source": [
    " def values_greater_than_second(d=[]):\n",
    "    d=[] \n",
    "        \n",
    "    for i in range(len(d)):\n",
    "        if (d[i]>= d[2]):\n",
    "            d.append(v)\n",
    "    return d\n",
    "   \n",
    "print(values_greater_than_second([4,53,7,6]))"
   ]
  },
  {
   "cell_type": "code",
   "execution_count": null,
   "metadata": {},
   "outputs": [],
   "source": []
  },
  {
   "cell_type": "code",
   "execution_count": null,
   "metadata": {},
   "outputs": [],
   "source": []
  }
 ],
 "metadata": {
  "kernelspec": {
   "display_name": "Python 3",
   "language": "python",
   "name": "python3"
  },
  "language_info": {
   "codemirror_mode": {
    "name": "ipython",
    "version": 3
   },
   "file_extension": ".py",
   "mimetype": "text/x-python",
   "name": "python",
   "nbconvert_exporter": "python",
   "pygments_lexer": "ipython3",
   "version": "3.7.9"
  }
 },
 "nbformat": 4,
 "nbformat_minor": 4
}
