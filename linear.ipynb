{
 "cells": [
  {
   "cell_type": "markdown",
   "metadata": {},
   "source": [
    "# Intro to python "
   ]
  },
  {
   "cell_type": "markdown",
   "metadata": {},
   "source": [
    "### Strings"
   ]
  },
  {
   "cell_type": "code",
   "execution_count": 1,
   "metadata": {},
   "outputs": [
    {
     "name": "stdout",
     "output_type": "stream",
     "text": [
      "Hello word\n",
      "Hello Noelle\n",
      "HelloNoelle\n",
      "Hello 42\n",
      "I  love to eat sushi and pizza\n",
      "I  love to eat sushi and pizza\n"
     ]
    },
    {
     "data": {
      "text/plain": [
       "2"
      ]
     },
     "execution_count": 1,
     "metadata": {},
     "output_type": "execute_result"
    }
   ],
   "source": [
    "# 1. TASK: print \"Hello World\"\n",
    "print( \"Hello word\" )\n",
    "# 2. print \"Hello Noelle!\" with the name in a variable\n",
    "name = \"Noelle\"\n",
    "print( \"Hello\", name )\t# with a comma\n",
    "print( \"Hello\"+ name  )\t# with a +\n",
    "# 3. print \"Hello 42!\" with the number in a variable\n",
    "name = 42\n",
    "print( \"Hello\", name )\t# with a comma\n",
    "##print( \"Hello\" + name  )\t# with a +\t-- this one should give us an error!\n",
    "# 4. print \"I love to eat sushi and pizza.\" with the foods in variables\n",
    "fave_food1 = \"sushi\"\n",
    "fave_food2 = \"pizza\"\n",
    "print( \"I  love to eat {} and {}\".format(fave_food1,fave_food2)) # with .format()\n",
    "print(f\"I  love to eat {fave_food1} and {fave_food2}\") # with an f string\n",
    "\n",
    "\n",
    "# is suchi  lower case upper case?\n",
    "fave_food1.isupper()\n",
    "fave_food1.islower()\n",
    "\n",
    "# upper case the string \n",
    "fave_food1.upper()\n",
    "\n",
    "\n",
    "fave_food1.split(\"i\")\n",
    "\n",
    "# count the how many \"s \" in word sushi \n",
    "fave_food1.count(\"s\")"
   ]
  },
  {
   "cell_type": "markdown",
   "metadata": {},
   "source": [
    "### Basic for loobs  |"
   ]
  },
  {
   "cell_type": "code",
   "execution_count": 2,
   "metadata": {},
   "outputs": [
    {
     "name": "stdout",
     "output_type": "stream",
     "text": [
      " print  integers from 0 to 150 \n",
      "0\n",
      "1\n",
      "2\n",
      "3\n",
      "4\n",
      "5\n",
      "6\n",
      "7\n",
      "8\n",
      "9\n",
      "10\n",
      "11\n",
      "12\n",
      "13\n",
      "14\n",
      "15\n",
      "16\n",
      "17\n",
      "18\n",
      "19\n",
      "20\n",
      "21\n",
      "22\n",
      "23\n",
      "24\n",
      "25\n",
      "26\n",
      "27\n",
      "28\n",
      "29\n",
      "30\n",
      "31\n",
      "32\n",
      "33\n",
      "34\n",
      "35\n",
      "36\n",
      "37\n",
      "38\n",
      "39\n",
      "40\n",
      "41\n",
      "42\n",
      "43\n",
      "44\n",
      "45\n",
      "46\n",
      "47\n",
      "48\n",
      "49\n",
      "50\n",
      "51\n",
      "52\n",
      "53\n",
      "54\n",
      "55\n",
      "56\n",
      "57\n",
      "58\n",
      "59\n",
      "60\n",
      "61\n",
      "62\n",
      "63\n",
      "64\n",
      "65\n",
      "66\n",
      "67\n",
      "68\n",
      "69\n",
      "70\n",
      "71\n",
      "72\n",
      "73\n",
      "74\n",
      "75\n",
      "76\n",
      "77\n",
      "78\n",
      "79\n",
      "80\n",
      "81\n",
      "82\n",
      "83\n",
      "84\n",
      "85\n",
      "86\n",
      "87\n",
      "88\n",
      "89\n",
      "90\n",
      "91\n",
      "92\n",
      "93\n",
      "94\n",
      "95\n",
      "96\n",
      "97\n",
      "98\n",
      "99\n",
      "100\n",
      "101\n",
      "102\n",
      "103\n",
      "104\n",
      "105\n",
      "106\n",
      "107\n",
      "108\n",
      "109\n",
      "110\n",
      "111\n",
      "112\n",
      "113\n",
      "114\n",
      "115\n",
      "116\n",
      "117\n",
      "118\n",
      "119\n",
      "120\n",
      "121\n",
      "122\n",
      "123\n",
      "124\n",
      "125\n",
      "126\n",
      "127\n",
      "128\n",
      "129\n",
      "130\n",
      "131\n",
      "132\n",
      "133\n",
      "134\n",
      "135\n",
      "136\n",
      "137\n",
      "138\n",
      "139\n",
      "140\n",
      "141\n",
      "142\n",
      "143\n",
      "144\n",
      "145\n",
      "146\n",
      "147\n",
      "148\n",
      "149\n",
      " Print all the multiples of 5 from 5 to 1,000\n",
      "5\n",
      "10\n",
      "15\n",
      "20\n",
      "25\n",
      "30\n",
      "35\n",
      "40\n",
      "45\n",
      "50\n",
      "55\n",
      "60\n",
      "65\n",
      "70\n",
      "75\n",
      "80\n",
      "85\n",
      "90\n",
      "95\n",
      "100\n",
      "105\n",
      "110\n",
      "115\n",
      "120\n",
      "125\n",
      "130\n",
      "135\n",
      "140\n",
      "145\n",
      "150\n",
      "155\n",
      "160\n",
      "165\n",
      "170\n",
      "175\n",
      "180\n",
      "185\n",
      "190\n",
      "195\n",
      "200\n",
      "205\n",
      "210\n",
      "215\n",
      "220\n",
      "225\n",
      "230\n",
      "235\n",
      "240\n",
      "245\n",
      "250\n",
      "255\n",
      "260\n",
      "265\n",
      "270\n",
      "275\n",
      "280\n",
      "285\n",
      "290\n",
      "295\n",
      "300\n",
      "305\n",
      "310\n",
      "315\n",
      "320\n",
      "325\n",
      "330\n",
      "335\n",
      "340\n",
      "345\n",
      "350\n",
      "355\n",
      "360\n",
      "365\n",
      "370\n",
      "375\n",
      "380\n",
      "385\n",
      "390\n",
      "395\n",
      "400\n",
      "405\n",
      "410\n",
      "415\n",
      "420\n",
      "425\n",
      "430\n",
      "435\n",
      "440\n",
      "445\n",
      "450\n",
      "455\n",
      "460\n",
      "465\n",
      "470\n",
      "475\n",
      "480\n",
      "485\n",
      "490\n",
      "495\n",
      "500\n",
      "505\n",
      "510\n",
      "515\n",
      "520\n",
      "525\n",
      "530\n",
      "535\n",
      "540\n",
      "545\n",
      "550\n",
      "555\n",
      "560\n",
      "565\n",
      "570\n",
      "575\n",
      "580\n",
      "585\n",
      "590\n",
      "595\n",
      "600\n",
      "605\n",
      "610\n",
      "615\n",
      "620\n",
      "625\n",
      "630\n",
      "635\n",
      "640\n",
      "645\n",
      "650\n",
      "655\n",
      "660\n",
      "665\n",
      "670\n",
      "675\n",
      "680\n",
      "685\n",
      "690\n",
      "695\n",
      "700\n",
      "705\n",
      "710\n",
      "715\n",
      "720\n",
      "725\n",
      "730\n",
      "735\n",
      "740\n",
      "745\n",
      "750\n",
      "755\n",
      "760\n",
      "765\n",
      "770\n",
      "775\n",
      "780\n",
      "785\n",
      "790\n",
      "795\n",
      "800\n",
      "805\n",
      "810\n",
      "815\n",
      "820\n",
      "825\n",
      "830\n",
      "835\n",
      "840\n",
      "845\n",
      "850\n",
      "855\n",
      "860\n",
      "865\n",
      "870\n",
      "875\n",
      "880\n",
      "885\n",
      "890\n",
      "895\n",
      "900\n",
      "905\n",
      "910\n",
      "915\n",
      "920\n",
      "925\n",
      "930\n",
      "935\n",
      "940\n",
      "945\n",
      "950\n",
      "955\n",
      "960\n",
      "965\n",
      "970\n",
      "975\n",
      "980\n",
      "985\n",
      "990\n",
      "995\n",
      "Print integers 1 to 100. If divisible by 5, print  Coding instead. If divisible by 10, print Coding Dojo.\n",
      "1\n",
      "2\n",
      "3\n",
      "4\n",
      "coding\n",
      "6\n",
      "7\n",
      "8\n",
      "9\n",
      "coding\n",
      "11\n",
      "12\n",
      "13\n",
      "14\n",
      "coding\n",
      "16\n",
      "17\n",
      "18\n",
      "19\n",
      "coding\n",
      "21\n",
      "22\n",
      "23\n",
      "24\n",
      "coding\n",
      "26\n",
      "27\n",
      "28\n",
      "29\n",
      "coding\n",
      "31\n",
      "32\n",
      "33\n",
      "34\n",
      "coding\n",
      "36\n",
      "37\n",
      "38\n",
      "39\n",
      "coding\n",
      "41\n",
      "42\n",
      "43\n",
      "44\n",
      "coding\n",
      "46\n",
      "47\n",
      "48\n",
      "49\n",
      "coding\n",
      "51\n",
      "52\n",
      "53\n",
      "54\n",
      "coding\n",
      "56\n",
      "57\n",
      "58\n",
      "59\n",
      "coding\n",
      "61\n",
      "62\n",
      "63\n",
      "64\n",
      "coding\n",
      "66\n",
      "67\n",
      "68\n",
      "69\n",
      "coding\n",
      "71\n",
      "72\n",
      "73\n",
      "74\n",
      "coding\n",
      "76\n",
      "77\n",
      "78\n",
      "79\n",
      "coding\n",
      "81\n",
      "82\n",
      "83\n",
      "84\n",
      "coding\n",
      "86\n",
      "87\n",
      "88\n",
      "89\n",
      "coding\n",
      "91\n",
      "92\n",
      "93\n",
      "94\n",
      "coding\n",
      "96\n",
      "97\n",
      "98\n",
      "99\n"
     ]
    }
   ],
   "source": [
    "#Print all integers from 0 to 150. Hint:use a for loop and range\n",
    "print(\" print  integers from 0 to 150 \")\n",
    "for i in range(0,150,1):\n",
    "  print(i)\n",
    "\n",
    "# Print all the multiples of 5 from 5 to 1,000\n",
    "print(\" Print all the multiples of 5 from 5 to 1,000\")\n",
    "for b in range(5,1000,5):\n",
    "  print(b)\n",
    "\n",
    "\n",
    "# Print integers 1 to 100. If divisible by 5, print \"Coding\" instead. If divisible by 10, print \"Coding Dojo\".\n",
    "print (\"Print integers 1 to 100. If divisible by 5, print  Coding instead. If divisible by 10, print Coding Dojo.\")\n",
    "for i in range(1,100,1):\n",
    "    if ( i % 5)==0:\n",
    "     print (\"coding\")\n",
    "    elif ( i % 10)==0:\n",
    "     print (\"Coding Dojo\")\n",
    "    else:\n",
    "      print(i)\n",
    "    \n",
    "    \n",
    " #Add odd integers from 0 to 500,000, and print the final sum.\n",
    "\n",
    "sum=0\n",
    "\n",
    "for i in range(50):\n",
    "    if ( i % 2==1):\n",
    "     sum+= i\n",
    "     break\n",
    "     print (sum)\n"
   ]
  },
  {
   "cell_type": "code",
   "execution_count": 3,
   "metadata": {},
   "outputs": [
    {
     "name": "stdout",
     "output_type": "stream",
     "text": [
      "6250000\n"
     ]
    }
   ],
   "source": [
    " #Add odd integers from 0 to 500 and print the final sum.\n",
    "i=1\n",
    "sum=0\n",
    "while i<=5000:\n",
    "    if i%2==1:\n",
    "        sum=sum+i\n",
    "    i=i+1\n",
    "print (sum)"
   ]
  },
  {
   "cell_type": "code",
   "execution_count": 4,
   "metadata": {},
   "outputs": [
    {
     "name": "stdout",
     "output_type": "stream",
     "text": [
      "2018\n",
      "2014\n",
      "2010\n",
      "2006\n",
      "2002\n",
      "1998\n",
      "1994\n",
      "1990\n",
      "1986\n",
      "1982\n",
      "1978\n",
      "1974\n",
      "1970\n",
      "1966\n",
      "1962\n",
      "1958\n",
      "1954\n",
      "1950\n",
      "1946\n",
      "1942\n",
      "1938\n",
      "1934\n",
      "1930\n",
      "1926\n",
      "1922\n",
      "1918\n",
      "1914\n",
      "1910\n",
      "1906\n",
      "1902\n",
      "1898\n",
      "1894\n",
      "1890\n",
      "1886\n",
      "1882\n",
      "1878\n",
      "1874\n",
      "1870\n",
      "1866\n",
      "1862\n",
      "1858\n",
      "1854\n",
      "1850\n",
      "1846\n",
      "1842\n",
      "1838\n",
      "1834\n",
      "1830\n",
      "1826\n",
      "1822\n",
      "1818\n",
      "1814\n",
      "1810\n",
      "1806\n",
      "1802\n",
      "1798\n",
      "1794\n",
      "1790\n",
      "1786\n",
      "1782\n",
      "1778\n",
      "1774\n",
      "1770\n",
      "1766\n",
      "1762\n",
      "1758\n",
      "1754\n",
      "1750\n",
      "1746\n",
      "1742\n",
      "1738\n",
      "1734\n",
      "1730\n",
      "1726\n",
      "1722\n",
      "1718\n",
      "1714\n",
      "1710\n",
      "1706\n",
      "1702\n",
      "1698\n",
      "1694\n",
      "1690\n",
      "1686\n",
      "1682\n",
      "1678\n",
      "1674\n",
      "1670\n",
      "1666\n",
      "1662\n",
      "1658\n",
      "1654\n",
      "1650\n",
      "1646\n",
      "1642\n",
      "1638\n",
      "1634\n",
      "1630\n",
      "1626\n",
      "1622\n",
      "1618\n",
      "1614\n",
      "1610\n",
      "1606\n",
      "1602\n",
      "1598\n",
      "1594\n",
      "1590\n",
      "1586\n",
      "1582\n",
      "1578\n",
      "1574\n",
      "1570\n",
      "1566\n",
      "1562\n",
      "1558\n",
      "1554\n",
      "1550\n",
      "1546\n",
      "1542\n",
      "1538\n",
      "1534\n",
      "1530\n",
      "1526\n",
      "1522\n",
      "1518\n",
      "1514\n",
      "1510\n",
      "1506\n",
      "1502\n",
      "1498\n",
      "1494\n",
      "1490\n",
      "1486\n",
      "1482\n",
      "1478\n",
      "1474\n",
      "1470\n",
      "1466\n",
      "1462\n",
      "1458\n",
      "1454\n",
      "1450\n",
      "1446\n",
      "1442\n",
      "1438\n",
      "1434\n",
      "1430\n",
      "1426\n",
      "1422\n",
      "1418\n",
      "1414\n",
      "1410\n",
      "1406\n",
      "1402\n",
      "1398\n",
      "1394\n",
      "1390\n",
      "1386\n",
      "1382\n",
      "1378\n",
      "1374\n",
      "1370\n",
      "1366\n",
      "1362\n",
      "1358\n",
      "1354\n",
      "1350\n",
      "1346\n",
      "1342\n",
      "1338\n",
      "1334\n",
      "1330\n",
      "1326\n",
      "1322\n",
      "1318\n",
      "1314\n",
      "1310\n",
      "1306\n",
      "1302\n",
      "1298\n",
      "1294\n",
      "1290\n",
      "1286\n",
      "1282\n",
      "1278\n",
      "1274\n",
      "1270\n",
      "1266\n",
      "1262\n",
      "1258\n",
      "1254\n",
      "1250\n",
      "1246\n",
      "1242\n",
      "1238\n",
      "1234\n",
      "1230\n",
      "1226\n",
      "1222\n",
      "1218\n",
      "1214\n",
      "1210\n",
      "1206\n",
      "1202\n",
      "1198\n",
      "1194\n",
      "1190\n",
      "1186\n",
      "1182\n",
      "1178\n",
      "1174\n",
      "1170\n",
      "1166\n",
      "1162\n",
      "1158\n",
      "1154\n",
      "1150\n",
      "1146\n",
      "1142\n",
      "1138\n",
      "1134\n",
      "1130\n",
      "1126\n",
      "1122\n",
      "1118\n",
      "1114\n",
      "1110\n",
      "1106\n",
      "1102\n",
      "1098\n",
      "1094\n",
      "1090\n",
      "1086\n",
      "1082\n",
      "1078\n",
      "1074\n",
      "1070\n",
      "1066\n",
      "1062\n",
      "1058\n",
      "1054\n",
      "1050\n",
      "1046\n",
      "1042\n",
      "1038\n",
      "1034\n",
      "1030\n",
      "1026\n",
      "1022\n",
      "1018\n",
      "1014\n",
      "1010\n",
      "1006\n",
      "1002\n",
      "998\n",
      "994\n",
      "990\n",
      "986\n",
      "982\n",
      "978\n",
      "974\n",
      "970\n",
      "966\n",
      "962\n",
      "958\n",
      "954\n",
      "950\n",
      "946\n",
      "942\n",
      "938\n",
      "934\n",
      "930\n",
      "926\n",
      "922\n",
      "918\n",
      "914\n",
      "910\n",
      "906\n",
      "902\n",
      "898\n",
      "894\n",
      "890\n",
      "886\n",
      "882\n",
      "878\n",
      "874\n",
      "870\n",
      "866\n",
      "862\n",
      "858\n",
      "854\n",
      "850\n",
      "846\n",
      "842\n",
      "838\n",
      "834\n",
      "830\n",
      "826\n",
      "822\n",
      "818\n",
      "814\n",
      "810\n",
      "806\n",
      "802\n",
      "798\n",
      "794\n",
      "790\n",
      "786\n",
      "782\n",
      "778\n",
      "774\n",
      "770\n",
      "766\n",
      "762\n",
      "758\n",
      "754\n",
      "750\n",
      "746\n",
      "742\n",
      "738\n",
      "734\n",
      "730\n",
      "726\n",
      "722\n",
      "718\n",
      "714\n",
      "710\n",
      "706\n",
      "702\n",
      "698\n",
      "694\n",
      "690\n",
      "686\n",
      "682\n",
      "678\n",
      "674\n",
      "670\n",
      "666\n",
      "662\n",
      "658\n",
      "654\n",
      "650\n",
      "646\n",
      "642\n",
      "638\n",
      "634\n",
      "630\n",
      "626\n",
      "622\n",
      "618\n",
      "614\n",
      "610\n",
      "606\n",
      "602\n",
      "598\n",
      "594\n",
      "590\n",
      "586\n",
      "582\n",
      "578\n",
      "574\n",
      "570\n",
      "566\n",
      "562\n",
      "558\n",
      "554\n",
      "550\n",
      "546\n",
      "542\n",
      "538\n",
      "534\n",
      "530\n",
      "526\n",
      "522\n",
      "518\n",
      "514\n",
      "510\n",
      "506\n",
      "502\n",
      "498\n",
      "494\n",
      "490\n",
      "486\n",
      "482\n",
      "478\n",
      "474\n",
      "470\n",
      "466\n",
      "462\n",
      "458\n",
      "454\n",
      "450\n",
      "446\n",
      "442\n",
      "438\n",
      "434\n",
      "430\n",
      "426\n",
      "422\n",
      "418\n",
      "414\n",
      "410\n",
      "406\n",
      "402\n",
      "398\n",
      "394\n",
      "390\n",
      "386\n",
      "382\n",
      "378\n",
      "374\n",
      "370\n",
      "366\n",
      "362\n",
      "358\n",
      "354\n",
      "350\n",
      "346\n",
      "342\n",
      "338\n",
      "334\n",
      "330\n",
      "326\n",
      "322\n",
      "318\n",
      "314\n",
      "310\n",
      "306\n",
      "302\n",
      "298\n",
      "294\n",
      "290\n",
      "286\n",
      "282\n",
      "278\n",
      "274\n",
      "270\n",
      "266\n",
      "262\n",
      "258\n",
      "254\n",
      "250\n",
      "246\n",
      "242\n",
      "238\n",
      "234\n",
      "230\n",
      "226\n",
      "222\n",
      "218\n",
      "214\n",
      "210\n",
      "206\n",
      "202\n",
      "198\n",
      "194\n",
      "190\n",
      "186\n",
      "182\n",
      "178\n",
      "174\n",
      "170\n",
      "166\n",
      "162\n",
      "158\n",
      "154\n",
      "150\n",
      "146\n",
      "142\n",
      "138\n",
      "134\n",
      "130\n",
      "126\n",
      "122\n",
      "118\n",
      "114\n",
      "110\n",
      "106\n",
      "102\n",
      "98\n",
      "94\n",
      "90\n",
      "86\n",
      "82\n",
      "78\n",
      "74\n",
      "70\n",
      "66\n",
      "62\n",
      "58\n",
      "54\n",
      "50\n",
      "46\n",
      "42\n",
      "38\n",
      "34\n",
      "30\n",
      "26\n",
      "22\n",
      "18\n",
      "14\n",
      "10\n",
      "6\n",
      "2\n"
     ]
    }
   ],
   "source": [
    "#Print positive numbers starting at 2018, counting down by fours.\n",
    "\n",
    "\n",
    "for n in range(2018,0,-4):\n",
    "      if n%2==0:\n",
    "        print(n)"
   ]
  },
  {
   "cell_type": "markdown",
   "metadata": {},
   "source": [
    "## Function |"
   ]
  },
  {
   "cell_type": "code",
   "execution_count": 2,
   "metadata": {},
   "outputs": [
    {
     "name": "stdout",
     "output_type": "stream",
     "text": [
      "5\n"
     ]
    }
   ],
   "source": [
    "#1 it will print 5\n",
    "def a():\n",
    "    return 5\n",
    "print(a())\n"
   ]
  },
  {
   "cell_type": "code",
   "execution_count": 3,
   "metadata": {},
   "outputs": [
    {
     "name": "stdout",
     "output_type": "stream",
     "text": [
      "10\n"
     ]
    }
   ],
   "source": [
    "#2 it will print 10\n",
    "def a():\n",
    "    return 5\n",
    "print(a()+a())\n"
   ]
  },
  {
   "cell_type": "code",
   "execution_count": 5,
   "metadata": {},
   "outputs": [
    {
     "name": "stdout",
     "output_type": "stream",
     "text": [
      "5\n"
     ]
    }
   ],
   "source": [
    "#3 it will print 5\n",
    "def a():\n",
    "    return 5\n",
    "    return 10\n",
    "print(a())\n"
   ]
  },
  {
   "cell_type": "code",
   "execution_count": 6,
   "metadata": {},
   "outputs": [
    {
     "name": "stdout",
     "output_type": "stream",
     "text": [
      "5\n"
     ]
    }
   ],
   "source": [
    "#4 it will print 5\n",
    "def a():\n",
    "    return 5\n",
    "    print(10)\n",
    "print(a())"
   ]
  },
  {
   "cell_type": "code",
   "execution_count": 7,
   "metadata": {},
   "outputs": [
    {
     "name": "stdout",
     "output_type": "stream",
     "text": [
      "5\n",
      "None\n"
     ]
    }
   ],
   "source": [
    "#5 it will print 5\n",
    "def a():\n",
    "    print(5)\n",
    "x = a()\n",
    "print(x)\n"
   ]
  },
  {
   "cell_type": "code",
   "execution_count": 8,
   "metadata": {},
   "outputs": [
    {
     "name": "stdout",
     "output_type": "stream",
     "text": [
      "3\n",
      "5\n"
     ]
    },
    {
     "ename": "TypeError",
     "evalue": "unsupported operand type(s) for +: 'NoneType' and 'NoneType'",
     "output_type": "error",
     "traceback": [
      "\u001b[1;31m---------------------------------------------------------------------------\u001b[0m",
      "\u001b[1;31mTypeError\u001b[0m                                 Traceback (most recent call last)",
      "\u001b[1;32m<ipython-input-8-a3aa3c925e57>\u001b[0m in \u001b[0;36m<module>\u001b[1;34m\u001b[0m\n\u001b[0;32m      2\u001b[0m \u001b[1;32mdef\u001b[0m \u001b[0ma\u001b[0m\u001b[1;33m(\u001b[0m\u001b[0mb\u001b[0m\u001b[1;33m,\u001b[0m\u001b[0mc\u001b[0m\u001b[1;33m)\u001b[0m\u001b[1;33m:\u001b[0m\u001b[1;33m\u001b[0m\u001b[1;33m\u001b[0m\u001b[0m\n\u001b[0;32m      3\u001b[0m     \u001b[0mprint\u001b[0m\u001b[1;33m(\u001b[0m\u001b[0mb\u001b[0m\u001b[1;33m+\u001b[0m\u001b[0mc\u001b[0m\u001b[1;33m)\u001b[0m\u001b[1;33m\u001b[0m\u001b[1;33m\u001b[0m\u001b[0m\n\u001b[1;32m----> 4\u001b[1;33m \u001b[0mprint\u001b[0m\u001b[1;33m(\u001b[0m\u001b[0ma\u001b[0m\u001b[1;33m(\u001b[0m\u001b[1;36m1\u001b[0m\u001b[1;33m,\u001b[0m\u001b[1;36m2\u001b[0m\u001b[1;33m)\u001b[0m \u001b[1;33m+\u001b[0m \u001b[0ma\u001b[0m\u001b[1;33m(\u001b[0m\u001b[1;36m2\u001b[0m\u001b[1;33m,\u001b[0m\u001b[1;36m3\u001b[0m\u001b[1;33m)\u001b[0m\u001b[1;33m)\u001b[0m\u001b[1;33m\u001b[0m\u001b[1;33m\u001b[0m\u001b[0m\n\u001b[0m",
      "\u001b[1;31mTypeError\u001b[0m: unsupported operand type(s) for +: 'NoneType' and 'NoneType'"
     ]
    }
   ],
   "source": [
    "#6 it will print 3,5\n",
    "def a(b,c):\n",
    "    print(b+c)\n",
    "print(a(1,2) + a(2,3))\n"
   ]
  },
  {
   "cell_type": "code",
   "execution_count": 9,
   "metadata": {},
   "outputs": [
    {
     "name": "stdout",
     "output_type": "stream",
     "text": [
      "25\n"
     ]
    }
   ],
   "source": [
    "#7 it will print 25\n",
    "def a(b,c):\n",
    "    return str(b)+str(c)\n",
    "print(a(2,5))\n"
   ]
  },
  {
   "cell_type": "code",
   "execution_count": 15,
   "metadata": {},
   "outputs": [
    {
     "name": "stdout",
     "output_type": "stream",
     "text": [
      "100\n",
      "10\n"
     ]
    }
   ],
   "source": [
    "#8 will print 10 and retrn 10\n",
    "def a():\n",
    "    b = 100\n",
    "    print(b)\n",
    "    if b < 10:\n",
    "        return 5\n",
    "    else:\n",
    "        return 10\n",
    "    return 7\n",
    "print(a())"
   ]
  },
  {
   "cell_type": "code",
   "execution_count": 16,
   "metadata": {},
   "outputs": [
    {
     "name": "stdout",
     "output_type": "stream",
     "text": [
      "7\n",
      "14\n",
      "21\n"
     ]
    }
   ],
   "source": [
    "#9 it will return 7,14,21\n",
    "def a(b,c):\n",
    "    if b<c:\n",
    "        return 7\n",
    "    else:\n",
    "        return 14\n",
    "    return 3\n",
    "print(a(2,3))\n",
    "print(a(5,3))\n",
    "print(a(2,3) + a(5,3))\n"
   ]
  },
  {
   "cell_type": "code",
   "execution_count": 17,
   "metadata": {},
   "outputs": [
    {
     "name": "stdout",
     "output_type": "stream",
     "text": [
      "8\n"
     ]
    }
   ],
   "source": [
    "#10 it will return 8\n",
    "def a(b,c):\n",
    "    return b+c\n",
    "    return 10\n",
    "print(a(3,5))\n"
   ]
  },
  {
   "cell_type": "code",
   "execution_count": 20,
   "metadata": {},
   "outputs": [
    {
     "name": "stdout",
     "output_type": "stream",
     "text": [
      "500\n",
      "500\n",
      "300\n",
      "500\n"
     ]
    }
   ],
   "source": [
    "#11 it will print 500 ,500,300,500\n",
    "b = 500\n",
    "print(b)\n",
    "def a():\n",
    "    b = 300\n",
    "    print(b)\n",
    "print(b)\n",
    "a()\n",
    "print(b)"
   ]
  },
  {
   "cell_type": "code",
   "execution_count": 27,
   "metadata": {},
   "outputs": [
    {
     "name": "stdout",
     "output_type": "stream",
     "text": [
      "500\n",
      "500\n",
      "300\n",
      "500\n"
     ]
    }
   ],
   "source": [
    "#12  it will print 500 ,500,300,500\n",
    "b = 500\n",
    "print(b)\n",
    "def a():\n",
    "    b = 300\n",
    "    print(b)\n",
    "    return b\n",
    "print(b)\n",
    "a()\n",
    "print(b)"
   ]
  },
  {
   "cell_type": "code",
   "execution_count": 28,
   "metadata": {},
   "outputs": [
    {
     "name": "stdout",
     "output_type": "stream",
     "text": [
      "500\n",
      "500\n",
      "300\n",
      "300\n"
     ]
    }
   ],
   "source": [
    "#13 it will print 500,500,300,300\n",
    "b = 500\n",
    "print(b)\n",
    "def a():\n",
    "    b = 300\n",
    "    print(b)\n",
    "    return b\n",
    "print(b)\n",
    "b=a()\n",
    "print(b)\n"
   ]
  },
  {
   "cell_type": "code",
   "execution_count": 29,
   "metadata": {},
   "outputs": [
    {
     "name": "stdout",
     "output_type": "stream",
     "text": [
      "1\n",
      "3\n",
      "2\n"
     ]
    }
   ],
   "source": [
    "#14 it will print 1,2,3\n",
    "def a():\n",
    "    print(1)\n",
    "    b()\n",
    "    print(2)\n",
    "def b():\n",
    "    print(3)\n",
    "a()\n"
   ]
  },
  {
   "cell_type": "code",
   "execution_count": 30,
   "metadata": {},
   "outputs": [
    {
     "name": "stdout",
     "output_type": "stream",
     "text": [
      "1\n",
      "3\n",
      "5\n",
      "10\n"
     ]
    }
   ],
   "source": [
    "#15 it will return 1,3,5,10\n",
    "def a():\n",
    "    print(1)\n",
    "    x = b()\n",
    "    print(x)\n",
    "    return 10\n",
    "def b():\n",
    "    print(3)\n",
    "    return 5\n",
    "y = a()\n",
    "print(y)\n"
   ]
  },
  {
   "cell_type": "markdown",
   "metadata": {},
   "source": [
    "## Function ||"
   ]
  },
  {
   "cell_type": "code",
   "execution_count": 43,
   "metadata": {},
   "outputs": [
    {
     "name": "stdout",
     "output_type": "stream",
     "text": [
      "[5, 4, 3, 2, 1]\n"
     ]
    }
   ],
   "source": [
    " #Create a function that accepts a number as an input. Return a new list that counts down by one, from the number (as the 0th element) down to 0 (as the last element).\n",
    "    \n",
    "def countdown(a):\n",
    "    d_list=[]\n",
    "    for i in range (a,0,-1):\n",
    "        d_list.append(i)\n",
    "    return d_list\n",
    "        \n",
    "print(countdown(5))"
   ]
  },
  {
   "cell_type": "code",
   "execution_count": 52,
   "metadata": {},
   "outputs": [
    {
     "name": "stdout",
     "output_type": "stream",
     "text": [
      "1\n"
     ]
    },
    {
     "data": {
      "text/plain": [
       "5"
      ]
     },
     "execution_count": 52,
     "metadata": {},
     "output_type": "execute_result"
    }
   ],
   "source": [
    "#Create a function that will receive a list with two numbers. Print the first value and return the second.\n",
    "\n",
    "def print_return( d=[]):\n",
    "    \n",
    "    print (d[0])\n",
    "    return (d[1])\n",
    "\n",
    "\n",
    "print_return([1,5])  "
   ]
  },
  {
   "cell_type": "code",
   "execution_count": 86,
   "metadata": {},
   "outputs": [
    {
     "data": {
      "text/plain": [
       "5"
      ]
     },
     "execution_count": 86,
     "metadata": {},
     "output_type": "execute_result"
    }
   ],
   "source": [
    "#Create a function that accepts a list and returns the sum of the first value in the list plus the list's length.\n",
    "\n",
    "\n",
    "def fist_len(d=[]):\n",
    "    sum = d[0] + len(d)\n",
    "    return sum\n",
    "    \n",
    "    \n",
    "fist_len([1,2,5,4])"
   ]
  },
  {
   "cell_type": "code",
   "execution_count": 105,
   "metadata": {},
   "outputs": [
    {
     "name": "stdout",
     "output_type": "stream",
     "text": [
      "[3, 3, 3, 3]\n"
     ]
    }
   ],
   "source": [
    "#Write a function that accepts two integers as parameters: size and value. The function should create and return a list whose length\n",
    "#is equal to the given size, and whose values are all the given value.\n",
    "\n",
    "def length_list(s,v):\n",
    "    d=[] \n",
    "    for i in range(s):\n",
    "         d.append(v)\n",
    "    return d\n",
    "    \n",
    "print(length_list(4,3))\n",
    "\n"
   ]
  },
  {
   "cell_type": "code",
   "execution_count": 110,
   "metadata": {},
   "outputs": [
    {
     "name": "stdout",
     "output_type": "stream",
     "text": [
      "[]\n"
     ]
    }
   ],
   "source": [
    " def values_greater_than_second(d=[]):\n",
    "    d=[] \n",
    "        \n",
    "    for i in range(len(d)):\n",
    "        if (d[i]>= d[2]):\n",
    "            d.append(v)\n",
    "    return d\n",
    "   \n",
    "print(values_greater_than_second([4,53,7,6]))"
   ]
  },
  {
   "cell_type": "markdown",
   "metadata": {},
   "source": [
    "### Basic For Loops II"
   ]
  },
  {
   "cell_type": "code",
   "execution_count": 160,
   "metadata": {},
   "outputs": [
    {
     "data": {
      "text/plain": [
       "[-3, 'big', 'big', 'big']"
      ]
     },
     "execution_count": 160,
     "metadata": {},
     "output_type": "execute_result"
    }
   ],
   "source": [
    "#Given a list, write a function that changes all positive numbers in the list to \"big\".\n",
    "\n",
    "\n",
    "\n",
    "def big(d=[]):\n",
    "    for i in range(len(d)):\n",
    "         if d[i] >=0:\n",
    "            d[i]=\"big\"\n",
    "    return d\n",
    "big([-3,53,7,6])\n",
    "            "
   ]
  },
  {
   "cell_type": "code",
   "execution_count": 129,
   "metadata": {},
   "outputs": [
    {
     "data": {
      "text/plain": [
       "[-1, 1, 1, 3]"
      ]
     },
     "execution_count": 129,
     "metadata": {},
     "output_type": "execute_result"
    }
   ],
   "source": [
    "##Given a list of numbers, create a function to replace the last value with the number of positive values.\n",
    "\n",
    "\n",
    "def count_posative(d=[]):\n",
    "    count =0 \n",
    "    for i in range (len(d)):\n",
    "        if d[i]>= 0:\n",
    "            count+= 1\n",
    "    d[len(d)-1]=count\n",
    "    return d\n",
    "    \n",
    "\n",
    "    \n",
    "count_posative([-1,1,1,1])\n",
    "    "
   ]
  },
  {
   "cell_type": "code",
   "execution_count": 147,
   "metadata": {},
   "outputs": [
    {
     "data": {
      "text/plain": [
       "2.0"
      ]
     },
     "execution_count": 147,
     "metadata": {},
     "output_type": "execute_result"
    }
   ],
   "source": [
    "# Create a function that takes a list and returns the sum of all the values in the array.\n",
    "\n",
    "def list_sum(d=[]):\n",
    "    sum =0\n",
    "    for i in range (len(d)):\n",
    "        sum+= d[i]\n",
    "    return sum\n",
    "\n",
    "\n",
    "list_sum([1,3,2])    "
   ]
  },
  {
   "cell_type": "code",
   "execution_count": 149,
   "metadata": {},
   "outputs": [
    {
     "data": {
      "text/plain": [
       "2.6666666666666665"
      ]
     },
     "execution_count": 149,
     "metadata": {},
     "output_type": "execute_result"
    }
   ],
   "source": [
    "#Create a function that takes a list and returns the average of all the values.\n",
    "\n",
    "def list_avr(d=[]):\n",
    "    sum =0\n",
    "    for i in range (len(d)):\n",
    "        \n",
    "        sum+= d[i]\n",
    "        \n",
    "    return (sum/len(d))\n",
    "\n",
    "\n",
    "list_avr([1,5,2])            "
   ]
  },
  {
   "cell_type": "code",
   "execution_count": 150,
   "metadata": {},
   "outputs": [
    {
     "data": {
      "text/plain": [
       "2"
      ]
     },
     "execution_count": 150,
     "metadata": {},
     "output_type": "execute_result"
    }
   ],
   "source": [
    "# Create a function that takes a list and returns the length of the list.\n",
    "\n",
    "\n",
    "def length(d):\n",
    "    return len(d)\n",
    "length([1,2])"
   ]
  },
  {
   "cell_type": "code",
   "execution_count": 171,
   "metadata": {},
   "outputs": [
    {
     "data": {
      "text/plain": [
       "2"
      ]
     },
     "execution_count": 171,
     "metadata": {},
     "output_type": "execute_result"
    }
   ],
   "source": [
    "#Create a function that takes a list of numbers and returns the minimum value in the list. (Optional) If the list is empty, have the function return False.\n",
    "\n",
    "\n",
    "\n",
    "def min(d):\n",
    "    if len(d)<0:\n",
    "        return False\n",
    "    \n",
    "    min=d[0]\n",
    "    for i in range(len(d)):\n",
    "        if d[i]< min:\n",
    "            min = d[i]\n",
    "    return min \n",
    "min([5,2,3])\n",
    "    "
   ]
  },
  {
   "cell_type": "code",
   "execution_count": 229,
   "metadata": {},
   "outputs": [
    {
     "data": {
      "text/plain": [
       "5"
      ]
     },
     "execution_count": 229,
     "metadata": {},
     "output_type": "execute_result"
    }
   ],
   "source": [
    "#Create a function that takes a list and returns the maximum value in the array. (Optional) If the list is empty, have the function return False.\n",
    "\n",
    "\n",
    "def max(d):\n",
    "    if len(d)<0:\n",
    "        return False\n",
    "    \n",
    "    max=d[0]\n",
    "    for i in range(len(d)):\n",
    "        if d[i]>max:\n",
    "            max = d[i]\n",
    "    return max \n",
    "max([5,2,3])\n",
    "\n",
    "\n",
    "\n"
   ]
  },
  {
   "cell_type": "markdown",
   "metadata": {},
   "source": [
    "## Intermediate Functions I"
   ]
  },
  {
   "cell_type": "code",
   "execution_count": 228,
   "metadata": {},
   "outputs": [
    {
     "name": "stdout",
     "output_type": "stream",
     "text": [
      "63.36736234103761\n"
     ]
    }
   ],
   "source": [
    "import random\n",
    "def randInt(min= 0  , max=100   ):\n",
    "    num = random.random()* max +min\n",
    "    return num\n",
    "#print(randInt()) \t\t    # should print a random integer between 0 to 100\n",
    "#print(randInt(max=50)) \t    # should print a random integer between 0 to 50\n",
    "print(randInt(min=50)) \t    # should print a random integer between 50 to 100\n",
    "#print(randInt(min=50, max=500))    # should print a random integer between 50 and 500"
   ]
  },
  {
   "cell_type": "markdown",
   "metadata": {},
   "source": [
    "### Trying other ways  "
   ]
  },
  {
   "cell_type": "code",
   "execution_count": 225,
   "metadata": {},
   "outputs": [
    {
     "name": "stdout",
     "output_type": "stream",
     "text": [
      "randim nuber from 50 to 500 141\n"
     ]
    }
   ],
   "source": [
    "import random\n",
    "def randInt(min='', max=''):\n",
    "    num = random.randrange(min, max,1)\n",
    "    return num\n",
    "\n",
    "print(\"randim nuber from 50 to 500\", randInt(min=50, max=500))"
   ]
  },
  {
   "cell_type": "code",
   "execution_count": 226,
   "metadata": {},
   "outputs": [
    {
     "name": "stdout",
     "output_type": "stream",
     "text": [
      "Random element from list: Houston\n"
     ]
    }
   ],
   "source": [
    "import random\n",
    "\n",
    "city_list = ['New York', 'Los Angeles', 'Chicago', 'Houston', 'Philadelphia']\n",
    "print(\"Random element from list:\", random.choice(city_list))"
   ]
  },
  {
   "cell_type": "code",
   "execution_count": 274,
   "metadata": {},
   "outputs": [
    {
     "data": {
      "text/plain": [
       "[1, 2]"
      ]
     },
     "execution_count": 274,
     "metadata": {},
     "output_type": "execute_result"
    }
   ],
   "source": [
    "def filter_list(l):\n",
    "    new_list=[]\n",
    "    for n in l:\n",
    "        if type(n) !=str:\n",
    "            new_list.append(n)\n",
    "    return  new_list\n",
    "(filter_list([1,2,'a','b']))\n",
    "#(filter_list([1,'a','b',0,15]),[1,0,15])\n",
    "#(filter_list([1,2,'aasf','1','123',123]),[1,2,123])"
   ]
  },
  {
   "cell_type": "code",
   "execution_count": 5,
   "metadata": {},
   "outputs": [],
   "source": [
    "import numpy as np \n"
   ]
  },
  {
   "cell_type": "code",
   "execution_count": 4,
   "metadata": {},
   "outputs": [
    {
     "name": "stdout",
     "output_type": "stream",
     "text": [
      "Collecting numpy\n",
      "  Downloading numpy-1.19.5-cp37-cp37m-win_amd64.whl (13.2 MB)\n",
      "Installing collected packages: numpy\n",
      "Successfully installed numpy-1.19.5\n",
      "Note: you may need to restart the kernel to use updated packages.\n"
     ]
    }
   ],
   "source": [
    "pip install numpy"
   ]
  },
  {
   "cell_type": "code",
   "execution_count": 8,
   "metadata": {},
   "outputs": [
    {
     "name": "stdout",
     "output_type": "stream",
     "text": [
      "<module 'numpy.linalg' from 'C:\\\\Users\\\\SARA\\\\anaconda3\\\\envs\\\\intro\\\\lib\\\\site-packages\\\\numpy\\\\linalg\\\\__init__.py'>\n"
     ]
    }
   ],
   "source": [
    "\n",
    "A = np.array([[3, 5], [7, -5]])\n",
    "B = np.array([6, 9])\n",
    "X = np.linalg.inv(A).dot(B)\n",
    "\n",
    "print(X)"
   ]
  }
 ],
 "metadata": {
  "kernelspec": {
   "display_name": "Python 3",
   "language": "python",
   "name": "python3"
  },
  "language_info": {
   "codemirror_mode": {
    "name": "ipython",
    "version": 3
   },
   "file_extension": ".py",
   "mimetype": "text/x-python",
   "name": "python",
   "nbconvert_exporter": "python",
   "pygments_lexer": "ipython3",
   "version": "3.7.9"
  }
 },
 "nbformat": 4,
 "nbformat_minor": 4
}
