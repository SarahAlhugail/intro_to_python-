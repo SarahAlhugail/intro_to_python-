{
  "nbformat": 4,
  "nbformat_minor": 0,
  "metadata": {
    "colab": {
      "name": "Untitled0.ipynb",
      "provenance": [],
      "authorship_tag": "ABX9TyNpy37/WOqGnSs0eqhW64A9",
      "include_colab_link": true
    },
    "kernelspec": {
      "name": "python3",
      "display_name": "Python 3"
    }
  },
  "cells": [
    {
      "cell_type": "markdown",
      "metadata": {
        "id": "view-in-github",
        "colab_type": "text"
      },
      "source": [
        "<a href=\"https://colab.research.google.com/github/SarahAlhugail/intro_to_python-/blob/main/Pandas_Basics.ipynb\" target=\"_parent\"><img src=\"https://colab.research.google.com/assets/colab-badge.svg\" alt=\"Open In Colab\"/></a>"
      ]
    },
    {
      "cell_type": "markdown",
      "metadata": {
        "id": "rO6SaxNYHVr_"
      },
      "source": [
        "## Pandas Basics\r\n",
        "\r\n"
      ]
    },
    {
      "cell_type": "code",
      "metadata": {
        "colab": {
          "base_uri": "https://localhost:8080/"
        },
        "id": "X8TljarXG5jo",
        "outputId": "06fafd92-d4e1-4054-edb9-aa51d4ac2025"
      },
      "source": [
        "dict = {\"country\": [\"Brazil\", \"Russia\", \"India\", \"China\", \"South Africa\"],\r\n",
        "       \"capital\": [\"Brasilia\", \"Moscow\", \"New Dehli\", \"Beijing\", \"Pretoria\"],\r\n",
        "       \"area\": [8.516, 17.10, 3.286, 9.597, 1.221],\r\n",
        "       \"population\": [200.4, 143.5, 1252, 1357, 52.98] }\r\n",
        "\r\n",
        "import pandas as pd\r\n",
        "brics = pd.DataFrame(dict)\r\n",
        "print(brics)"
      ],
      "execution_count": 1,
      "outputs": [
        {
          "output_type": "stream",
          "text": [
            "        country    capital    area  population\n",
            "0        Brazil   Brasilia   8.516      200.40\n",
            "1        Russia     Moscow  17.100      143.50\n",
            "2         India  New Dehli   3.286     1252.00\n",
            "3         China    Beijing   9.597     1357.00\n",
            "4  South Africa   Pretoria   1.221       52.98\n"
          ],
          "name": "stdout"
        }
      ]
    },
    {
      "cell_type": "code",
      "metadata": {
        "colab": {
          "base_uri": "https://localhost:8080/"
        },
        "id": "WA755htdInxA",
        "outputId": "cbe78f82-d542-471f-83a8-d903966eee49"
      },
      "source": [
        "# Set the index for brics\r\n",
        "brics.index = [\"BR\", \"RU\", \"IN\", \"CH\", \"SA\"]\r\n",
        "\r\n",
        "# Print out brics with new index values\r\n",
        "print(brics)"
      ],
      "execution_count": 42,
      "outputs": [
        {
          "output_type": "stream",
          "text": [
            "         country    capital    area  population\n",
            "BR        Brazil   Brasilia   8.516      200.40\n",
            "RU        Russia     Moscow  17.100      143.50\n",
            "IN         India  New Dehli   3.286     1252.00\n",
            "CH         China    Beijing   9.597     1357.00\n",
            "SA  South Africa   Pretoria   1.221       52.98\n"
          ],
          "name": "stdout"
        }
      ]
    },
    {
      "cell_type": "markdown",
      "metadata": {
        "id": "zYo5C3YiHUIk"
      },
      "source": [
        "#  Importing a csv file using Pandas."
      ]
    },
    {
      "cell_type": "code",
      "metadata": {
        "colab": {
          "base_uri": "https://localhost:8080/"
        },
        "id": "KRXMEK3sIuLI",
        "outputId": "2e91fc11-daf4-4ce7-fd0a-8645a3bce076"
      },
      "source": [
        "\r\n",
        "# Import pandas as pd\r\n",
        "import pandas as pd\r\n",
        "\r\n",
        "# Import the cars.csv data: cars\r\n",
        "cars = pd.read_csv('https://raw.githubusercontent.com/wblakecannon/DataCamp/master/02-intermediate-python-for-data-science/4-loops/cars.csv')\r\n",
        "\r\n",
        "# Print out cars\r\n",
        "print(cars)"
      ],
      "execution_count": 43,
      "outputs": [
        {
          "output_type": "stream",
          "text": [
            "  Unnamed: 0  cars_per_cap        country  drives_right\n",
            "0         US           809  United States          True\n",
            "1        AUS           731      Australia         False\n",
            "2        JAP           588          Japan         False\n",
            "3         IN            18          India         False\n",
            "4         RU           200         Russia          True\n",
            "5        MOR            70        Morocco          True\n",
            "6         EG            45          Egypt          True\n"
          ],
          "name": "stdout"
        }
      ]
    },
    {
      "cell_type": "code",
      "metadata": {
        "colab": {
          "base_uri": "https://localhost:8080/"
        },
        "id": "eLtgInpqJ_Ad",
        "outputId": "9ae4fd70-3534-459f-c7dd-452e000b0fee"
      },
      "source": [
        "\r\n",
        "# Print out country column as Pandas Series\r\n",
        "print(cars['cars_per_cap'])\r\n",
        "\r\n"
      ],
      "execution_count": 44,
      "outputs": [
        {
          "output_type": "stream",
          "text": [
            "0    809\n",
            "1    731\n",
            "2    588\n",
            "3     18\n",
            "4    200\n",
            "5     70\n",
            "6     45\n",
            "Name: cars_per_cap, dtype: int64\n"
          ],
          "name": "stdout"
        }
      ]
    },
    {
      "cell_type": "code",
      "metadata": {
        "colab": {
          "base_uri": "https://localhost:8080/"
        },
        "id": "fRceSS4BLRZb",
        "outputId": "99de7f9b-23f8-4581-cbb2-bd42bb05a874"
      },
      "source": [
        "# Print out country column as Pandas DataFrame\r\n",
        "print(cars[['cars_per_cap']])\r\n"
      ],
      "execution_count": 45,
      "outputs": [
        {
          "output_type": "stream",
          "text": [
            "   cars_per_cap\n",
            "0           809\n",
            "1           731\n",
            "2           588\n",
            "3            18\n",
            "4           200\n",
            "5            70\n",
            "6            45\n"
          ],
          "name": "stdout"
        }
      ]
    },
    {
      "cell_type": "code",
      "metadata": {
        "colab": {
          "base_uri": "https://localhost:8080/"
        },
        "id": "QnOnhgsOLRsN",
        "outputId": "cd236d66-6b39-4826-f873-4ddedfd3939c"
      },
      "source": [
        "# Print out DataFrame with country and drives_right columns\r\n",
        "\r\n",
        "print(cars [['cars_per_cap' , 'country']])"
      ],
      "execution_count": 46,
      "outputs": [
        {
          "output_type": "stream",
          "text": [
            "   cars_per_cap        country\n",
            "0           809  United States\n",
            "1           731      Australia\n",
            "2           588          Japan\n",
            "3            18          India\n",
            "4           200         Russia\n",
            "5            70        Morocco\n",
            "6            45          Egypt\n"
          ],
          "name": "stdout"
        }
      ]
    },
    {
      "cell_type": "code",
      "metadata": {
        "colab": {
          "base_uri": "https://localhost:8080/"
        },
        "id": "H9S00nzoMcD8",
        "outputId": "84854d81-1b6d-4363-8d48-8a0c534777af"
      },
      "source": [
        "# Print out first 4 observations\r\n",
        "print(cars[0:4])\r\n",
        "\r\n"
      ],
      "execution_count": 47,
      "outputs": [
        {
          "output_type": "stream",
          "text": [
            "  Unnamed: 0  cars_per_cap        country  drives_right\n",
            "0         US           809  United States          True\n",
            "1        AUS           731      Australia         False\n",
            "2        JAP           588          Japan         False\n",
            "3         IN            18          India         False\n"
          ],
          "name": "stdout"
        }
      ]
    },
    {
      "cell_type": "code",
      "metadata": {
        "colab": {
          "base_uri": "https://localhost:8080/"
        },
        "id": "N56zegy3M7x_",
        "outputId": "08a2f66a-6145-4a67-f665-0b772578103f"
      },
      "source": [
        "# Print out fifth and sixth observation\r\n",
        "print(cars[4:6])"
      ],
      "execution_count": 48,
      "outputs": [
        {
          "output_type": "stream",
          "text": [
            "  Unnamed: 0  cars_per_cap  country  drives_right\n",
            "4         RU           200   Russia          True\n",
            "5        MOR            70  Morocco          True\n"
          ],
          "name": "stdout"
        }
      ]
    },
    {
      "cell_type": "code",
      "metadata": {
        "colab": {
          "base_uri": "https://localhost:8080/"
        },
        "id": "nBibncPyP0rF",
        "outputId": "b1a9ea38-cc65-40c0-d49d-55dcdc475b91"
      },
      "source": [
        "\r\n",
        "# Import cars data\r\n",
        "import pandas as pd\r\n",
        "cars = pd.read_csv('https://raw.githubusercontent.com/wblakecannon/DataCamp/master/02-intermediate-python-for-data-science/4-loops/cars.csv', index_col = 0)\r\n",
        "\r\n",
        "# Print out observation for Japan\r\n",
        "print(cars.iloc[2])\r\n",
        "\r\n",
        "# Print out observations for Australia and Egypt\r\n",
        "print(cars.loc[['AUS', 'EG']])\r\n"
      ],
      "execution_count": 75,
      "outputs": [
        {
          "output_type": "stream",
          "text": [
            "cars_per_cap      588\n",
            "country         Japan\n",
            "drives_right    False\n",
            "Name: JAP, dtype: object\n",
            "     cars_per_cap    country  drives_right\n",
            "AUS           731  Australia         False\n",
            "EG             45      Egypt          True\n"
          ],
          "name": "stdout"
        }
      ]
    },
    {
      "cell_type": "code",
      "metadata": {
        "colab": {
          "base_uri": "https://localhost:8080/"
        },
        "id": "BZhCY0VyPWTx",
        "outputId": "f1b81be7-feaf-4fdf-a9b8-b7a98b4c5d52"
      },
      "source": [
        "print(cars.iloc[:3, :2])\r\n",
        "\r\n",
        " \r\n",
        "print(cars.loc[:'JAP', :'cars_per_cap'])"
      ],
      "execution_count": 36,
      "outputs": [
        {
          "output_type": "stream",
          "text": [
            "  Unnamed: 0  cars_per_cap\n",
            "0         US           809\n",
            "1        AUS           731\n",
            "2        JAP           588\n",
            "  Unnamed: 0  cars_per_cap\n",
            "0         US           809\n",
            "1        AUS           731\n",
            "2        JAP           588\n",
            "3         IN            18\n",
            "4         RU           200\n",
            "5        MOR            70\n",
            "6         EG            45\n"
          ],
          "name": "stdout"
        }
      ]
    }
  ]
}