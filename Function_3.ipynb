{
 "cells": [


{
   "cell_type": "markdown",
   "metadata": {},
   "source": [
    "## Intermediate Functions I"
   ]
  },
  {
   "cell_type": "code",
   "execution_count": 228,
   "metadata": {},
   "outputs": [
    {
     "name": "stdout",
     "output_type": "stream",
     "text": [
      "63.36736234103761\n"
     ]
    }
   ],
   "source": [
    "import random\n",
    "def randInt(min= 0  , max=100   ):\n",
    "    num = random.random()* max +min\n",
    "    return num\n",
    "#print(randInt()) \t\t    # should print a random integer between 0 to 100\n",
    "#print(randInt(max=50)) \t    # should print a random integer between 0 to 50\n",
    "print(randInt(min=50)) \t    # should print a random integer between 50 to 100\n",
    "#print(randInt(min=50, max=500))    # should print a random integer between 50 and 500"
   ]
  },
  {
   "cell_type": "markdown",
   "metadata": {},
   "source": [
    "### Trying other ways  "
   ]
  },
  {
   "cell_type": "code",
   "execution_count": 225,
   "metadata": {},
   "outputs": [
    {
     "name": "stdout",
     "output_type": "stream",
     "text": [
      "randim nuber from 50 to 500 141\n"
     ]
    }
   ],
   "source": [
    "import random\n",
    "def randInt(min='', max=''):\n",
    "    num = random.randrange(min, max,1)\n",
    "    return num\n",
    "\n",
    "print(\"randim nuber from 50 to 500\", randInt(min=50, max=500))"
   ]
  },
  {
   "cell_type": "code",
   "execution_count": 226,
   "metadata": {},
   "outputs": [
    {
     "name": "stdout",
     "output_type": "stream",
     "text": [
      "Random element from list: Houston\n"
     ]
    }
   ],
   "source": [
    "import random\n",
    "\n",
    "city_list = ['New York', 'Los Angeles', 'Chicago', 'Houston', 'Philadelphia']\n",
    "print(\"Random element from list:\", random.choice(city_list))"
   ]
  },
  {
   "cell_type": "code",
   "execution_count": null,
   "metadata": {},
   "outputs": [],
   "source": []
  },
  {
   "cell_type": "code",
   "execution_count": null,
   "metadata": {},
   "outputs": [],
   "source": []
  }
 ],
 "metadata": {
  "kernelspec": {
   "display_name": "Python 3",
   "language": "python",
   "name": "python3"
  },
  "language_info": {
   "codemirror_mode": {
    "name": "ipython",
    "version": 3
   },
   "file_extension": ".py",
   "mimetype": "text/x-python",
   "name": "python",
   "nbconvert_exporter": "python",
   "pygments_lexer": "ipython3",
   "version": "3.7.9"
  }
 },
 "nbformat": 4,
 "nbformat_minor": 4
