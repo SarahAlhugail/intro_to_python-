{
 "cells": [
  {
   "cell_type": "markdown",
   "metadata": {},
   "source": [
    "# Intro to python "
   ]
  },
  {
   "cell_type": "markdown",
   "metadata": {},
   "source": [
    "### Strings"
   ]
  },
  {
   "cell_type": "code",
   "execution_count": 23,
   "metadata": {},
   "outputs": [
    {
     "name": "stdout",
     "output_type": "stream",
     "text": [
      "Hello word\n",
      "Hello Noelle\n",
      "HelloNoelle\n",
      "Hello 42\n",
      "I  love to eat sushi and pizza\n",
      "I  love to eat sushi and pizza\n"
     ]
    },
    {
     "data": {
      "text/plain": [
       "2"
      ]
     },
     "execution_count": 23,
     "metadata": {},
     "output_type": "execute_result"
    }
   ],
   "source": [
    "# 1. TASK: print \"Hello World\"\n",
    "print( \"Hello word\" )\n",
    "# 2. print \"Hello Noelle!\" with the name in a variable\n",
    "name = \"Noelle\"\n",
    "print( \"Hello\", name )\t# with a comma\n",
    "print( \"Hello\"+ name  )\t# with a +\n",
    "# 3. print \"Hello 42!\" with the number in a variable\n",
    "name = 42\n",
    "print( \"Hello\", name )\t# with a comma\n",
    "##print( \"Hello\" + name  )\t# with a +\t-- this one should give us an error!\n",
    "# 4. print \"I love to eat sushi and pizza.\" with the foods in variables\n",
    "fave_food1 = \"sushi\"\n",
    "fave_food2 = \"pizza\"\n",
    "print( \"I  love to eat {} and {}\".format(fave_food1,fave_food2)) # with .format()\n",
    "print(f\"I  love to eat {fave_food1} and {fave_food2}\") # with an f string\n",
    "\n",
    "\n",
    "# is suchi  lower case upper case?\n",
    "fave_food1.isupper()\n",
    "fave_food1.islower()\n",
    "\n",
    "# upper case the string \n",
    "fave_food1.upper()\n",
    "\n",
    "\n",
    "fave_food1.split(\"i\")\n",
    "\n",
    "# count the how many \"s \" in word sushi \n",
    "fave_food1.count(\"s\")"
   ]
  },
  {
   "cell_type": "code",
   "execution_count": null,
   "metadata": {},
   "outputs": [],
   "source": []
  },
  {
   "cell_type": "code",
   "execution_count": null,
   "metadata": {},
   "outputs": [],
   "source": []
  }
 ],
 "metadata": {
  "kernelspec": {
   "display_name": "Python 3",
   "language": "python",
   "name": "python3"
  },
  "language_info": {
   "codemirror_mode": {
    "name": "ipython",
    "version": 3
   },
   "file_extension": ".py",
   "mimetype": "text/x-python",
   "name": "python",
   "nbconvert_exporter": "python",
   "pygments_lexer": "ipython3",
   "version": "3.7.9"
  }
 },
 "nbformat": 4,
 "nbformat_minor": 4
}
